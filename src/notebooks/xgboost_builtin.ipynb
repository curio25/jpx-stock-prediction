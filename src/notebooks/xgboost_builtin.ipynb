{
 "cells": [
  {
   "cell_type": "markdown",
   "id": "6e7fa64d-36c3-40f4-a48a-06a14d216383",
   "metadata": {},
   "source": [
    "# Dependencies"
   ]
  },
  {
   "cell_type": "markdown",
   "id": "676298e5-e48b-4f4c-bd1a-97e00e938d95",
   "metadata": {},
   "source": [
    "## Imports"
   ]
  },
  {
   "cell_type": "code",
   "execution_count": 2,
   "id": "b601990b-843a-4faf-aa3f-6e7af651e2ab",
   "metadata": {
    "tags": []
   },
   "outputs": [],
   "source": [
    "import sagemaker\n",
    "from sagemaker import image_uris\n",
    "from sagemaker.session import Session\n",
    "from sagemaker.inputs import TrainingInput"
   ]
  },
  {
   "cell_type": "markdown",
   "id": "685285b5-404a-4962-ae0a-cefd04de3383",
   "metadata": {
    "tags": []
   },
   "source": [
    "## Entities"
   ]
  },
  {
   "cell_type": "code",
   "execution_count": 9,
   "id": "e8623314-b564-4b1a-a58b-5cc12846905c",
   "metadata": {
    "tags": []
   },
   "outputs": [],
   "source": [
    "region = 'us-east-1'\n",
    "bucket_name = 'jpx-stock-prediction'\n",
    "prefix = 'xgboost-builtin'"
   ]
  },
  {
   "cell_type": "code",
   "execution_count": 12,
   "id": "4d15dbbd-a151-4b08-bb88-06621a1f3ecc",
   "metadata": {
    "tags": []
   },
   "outputs": [
    {
     "name": "stdout",
     "output_type": "stream",
     "text": [
      "arn:aws:iam::949672723150:role/qte4288_SageMakerExecutionRole\n"
     ]
    }
   ],
   "source": [
    "role=sagemaker.get_execution_role()\n",
    "print(role)"
   ]
  },
  {
   "cell_type": "markdown",
   "id": "eccd330b-8e0b-4565-9e22-9d22732e1b28",
   "metadata": {},
   "source": [
    "# Model"
   ]
  },
  {
   "cell_type": "markdown",
   "id": "7d308b2c-eea4-4ac4-ac94-69fbfaf02111",
   "metadata": {},
   "source": [
    "## Find an XGBoost image URI and build an XGBoost Container"
   ]
  },
  {
   "cell_type": "code",
   "execution_count": 6,
   "id": "3a42faf1-054c-4c83-95b3-b070200613ce",
   "metadata": {
    "tags": []
   },
   "outputs": [
    {
     "data": {
      "text/plain": [
       "'683313688378.dkr.ecr.us-east-1.amazonaws.com/sagemaker-xgboost:1.7-1'"
      ]
     },
     "metadata": {},
     "output_type": "display_data"
    }
   ],
   "source": [
    "xgboost_container = sagemaker.image_uris.retrieve(\"xgboost\", region, \"1.7-1\")\n",
    "display(xgboost_container)"
   ]
  },
  {
   "cell_type": "markdown",
   "id": "c8937b65-e61a-44e7-ba3b-4905691c1f4a",
   "metadata": {},
   "source": [
    "## Initialize Parameters"
   ]
  },
  {
   "cell_type": "code",
   "execution_count": 7,
   "id": "09920ec3-a650-4c02-bc66-cb0d56ddacf0",
   "metadata": {
    "tags": []
   },
   "outputs": [],
   "source": [
    "hyperparameters = {\n",
    "        \"max_depth\":\"5\",\n",
    "        \"eta\":\"0.2\",\n",
    "        \"gamma\":\"4\",\n",
    "        \"min_child_weight\":\"6\",\n",
    "        \"subsample\":\"0.7\",\n",
    "        \"objective\":\"reg:squarederror\",\n",
    "        \"num_round\":\"50\"}"
   ]
  },
  {
   "cell_type": "markdown",
   "id": "35de4b58-7f2c-4ce4-8f8a-750119cfc178",
   "metadata": {},
   "source": [
    "## Output path to save the trained model"
   ]
  },
  {
   "cell_type": "code",
   "execution_count": 10,
   "id": "aa64e965-8dc7-4a56-a87e-a41be5c692cd",
   "metadata": {
    "tags": []
   },
   "outputs": [
    {
     "name": "stdout",
     "output_type": "stream",
     "text": [
      "s3://jpx-stock-prediction/xgboost-builtin/output/\n"
     ]
    }
   ],
   "source": [
    "output_path = 's3://{}/{}/{}/'.format(bucket_name,prefix,'output')\n",
    "print(output_path)"
   ]
  },
  {
   "cell_type": "markdown",
   "id": "937f6b13-3b32-4d21-af01-256e9fd0cc59",
   "metadata": {},
   "source": [
    "## Sagemaker estimator to call the XGBoost container"
   ]
  },
  {
   "cell_type": "code",
   "execution_count": 13,
   "id": "ff13313e-0647-48fc-883b-13fb236ec981",
   "metadata": {
    "tags": []
   },
   "outputs": [],
   "source": [
    "estimator = sagemaker.estimator.Estimator(image_uri=xgboost_container,\n",
    "                                          hyperparameters=hyperparameters,\n",
    "                                          role=role,\n",
    "                                          instance_count=1,\n",
    "                                          instance_type='ml.g4dn.2xlarge',\n",
    "                                          volume_size=5,\n",
    "                                          output_path=output_path,\n",
    "                                          use_spot_instances = True,\n",
    "                                          max_run = 300,\n",
    "                                          max_wait = 600)"
   ]
  },
  {
   "cell_type": "markdown",
   "id": "a94187e7-ee44-4832-8149-d28e99ec622a",
   "metadata": {},
   "source": [
    "## Training and Validation Set Path"
   ]
  },
  {
   "cell_type": "code",
   "execution_count": 14,
   "id": "87c61eb5-98f3-469d-85d0-4c208f0a7c54",
   "metadata": {
    "tags": []
   },
   "outputs": [],
   "source": [
    "content_type = \"csv\"\n",
    "train_input = TrainingInput(\"s3://{}/{}/{}/\".format(bucket_name,prefix,'train'),content_type=content_type)\n",
    "test_input = TrainingInput(\"s3://{}/{}/{}/\".format(bucket_name,prefix,'test'),content_type=content_type)"
   ]
  },
  {
   "cell_type": "markdown",
   "id": "cfaf20e7-6edf-4e34-a0e4-66333ed9cdc3",
   "metadata": {},
   "source": [
    "## Fit"
   ]
  },
  {
   "cell_type": "code",
   "execution_count": 15,
   "id": "495028dd-9ff0-4d00-8a26-77ce66f94627",
   "metadata": {
    "tags": []
   },
   "outputs": [
    {
     "name": "stderr",
     "output_type": "stream",
     "text": [
      "INFO:sagemaker:Creating training-job with name: sagemaker-xgboost-2024-08-24-09-36-23-747\n"
     ]
    },
    {
     "name": "stdout",
     "output_type": "stream",
     "text": [
      "2024-08-24 09:36:24 Starting - Starting the training job...\n",
      "2024-08-24 09:36:39 Starting - Preparing the instances for training...\n",
      "2024-08-24 09:37:13 Downloading - Downloading input data.........\n",
      "2024-08-24 09:38:45 Training - Training image download completed. Training in progress.\u001b[34m[2024-08-24 09:38:48.237 ip-10-2-73-133.ec2.internal:14 INFO utils.py:28] RULE_JOB_STOP_SIGNAL_FILENAME: None\u001b[0m\n",
      "\u001b[34m[2024-08-24 09:38:48.258 ip-10-2-73-133.ec2.internal:14 INFO profiler_config_parser.py:111] User has disabled profiler.\u001b[0m\n",
      "\u001b[34m[2024-08-24:09:38:48:INFO] Imported framework sagemaker_xgboost_container.training\u001b[0m\n",
      "\u001b[34m[2024-08-24:09:38:48:INFO] Failed to parse hyperparameter objective value reg:squarederror to Json.\u001b[0m\n",
      "\u001b[34mReturning the value itself\u001b[0m\n",
      "\u001b[34m[2024-08-24:09:38:48:INFO] Running XGBoost Sagemaker in algorithm mode\u001b[0m\n",
      "\u001b[34m[2024-08-24:09:38:48:INFO] Determined 1 GPU(s) available on the instance.\u001b[0m\n",
      "\u001b[34m[2024-08-24:09:38:48:INFO] Determined delimiter of CSV input is ','\u001b[0m\n",
      "\u001b[34m[2024-08-24:09:38:48:INFO] Determined delimiter of CSV input is ','\u001b[0m\n",
      "\u001b[34m[2024-08-24:09:38:48:INFO] File path /opt/ml/input/data/train of input files\u001b[0m\n",
      "\u001b[34m[2024-08-24:09:38:48:INFO] Making smlinks from folder /opt/ml/input/data/train to folder /tmp/sagemaker_xgboost_input_data\u001b[0m\n",
      "\u001b[34m[2024-08-24:09:38:48:INFO] creating symlink between Path /opt/ml/input/data/train/train.csv and destination /tmp/sagemaker_xgboost_input_data/train.csv9219258040568315639\u001b[0m\n",
      "\u001b[34m[2024-08-24:09:38:48:INFO] files path: /tmp/sagemaker_xgboost_input_data\u001b[0m\n",
      "\u001b[34m[2024-08-24:09:38:48:INFO] Determined delimiter of CSV input is ','\u001b[0m\n",
      "\u001b[34m[2024-08-24:09:38:56:INFO] File path /opt/ml/input/data/validation of input files\u001b[0m\n",
      "\u001b[34m[2024-08-24:09:38:56:INFO] Making smlinks from folder /opt/ml/input/data/validation to folder /tmp/sagemaker_xgboost_input_data\u001b[0m\n",
      "\u001b[34m[2024-08-24:09:38:56:INFO] creating symlink between Path /opt/ml/input/data/validation/test.csv and destination /tmp/sagemaker_xgboost_input_data/test.csv-927514077873157054\u001b[0m\n",
      "\u001b[34m[2024-08-24:09:38:56:INFO] files path: /tmp/sagemaker_xgboost_input_data\u001b[0m\n",
      "\u001b[34m[2024-08-24:09:38:56:INFO] Determined delimiter of CSV input is ','\u001b[0m\n",
      "\u001b[34m[2024-08-24:09:38:57:INFO] Single node training.\u001b[0m\n",
      "\u001b[34m[2024-08-24:09:38:57:INFO] Train matrix has 1778047 rows and 65 columns\u001b[0m\n",
      "\u001b[34m[2024-08-24:09:38:57:INFO] Validation matrix has 444512 rows\u001b[0m\n",
      "\u001b[34m[2024-08-24 09:38:57.775 ip-10-2-73-133.ec2.internal:14 INFO json_config.py:92] Creating hook from json_config at /opt/ml/input/config/debughookconfig.json.\u001b[0m\n",
      "\u001b[34m[2024-08-24 09:38:57.775 ip-10-2-73-133.ec2.internal:14 INFO hook.py:206] tensorboard_dir has not been set for the hook. SMDebug will not be exporting tensorboard summaries.\u001b[0m\n",
      "\u001b[34m[2024-08-24 09:38:57.776 ip-10-2-73-133.ec2.internal:14 INFO hook.py:259] Saving to /opt/ml/output/tensors\u001b[0m\n",
      "\u001b[34m[2024-08-24 09:38:57.776 ip-10-2-73-133.ec2.internal:14 INFO state_store.py:77] The checkpoint config file /opt/ml/input/config/checkpointconfig.json does not exist.\u001b[0m\n",
      "\u001b[34m[2024-08-24:09:38:57:INFO] Debug hook created from config\u001b[0m\n",
      "\u001b[34m[0]#011train-rmse:0.40030#011validation-rmse:0.40036\u001b[0m\n",
      "\u001b[34m[2024-08-24 09:39:13.587 ip-10-2-73-133.ec2.internal:14 INFO hook.py:427] Monitoring the collections: metrics\u001b[0m\n",
      "\u001b[34m[2024-08-24 09:39:13.588 ip-10-2-73-133.ec2.internal:14 INFO hook.py:491] Hook is writing from the hook with pid: 14\u001b[0m\n",
      "\u001b[34m[1]#011train-rmse:0.32055#011validation-rmse:0.32062\u001b[0m\n",
      "\u001b[34m[2]#011train-rmse:0.25682#011validation-rmse:0.25689\u001b[0m\n",
      "\u001b[34m[3]#011train-rmse:0.20594#011validation-rmse:0.20601\u001b[0m\n",
      "\u001b[34m[4]#011train-rmse:0.16536#011validation-rmse:0.16543\u001b[0m\n",
      "\u001b[34m[5]#011train-rmse:0.13303#011validation-rmse:0.13311\u001b[0m\n",
      "\u001b[34m[6]#011train-rmse:0.10735#011validation-rmse:0.10743\u001b[0m\n",
      "\u001b[34m[7]#011train-rmse:0.08703#011validation-rmse:0.08711\u001b[0m\n",
      "\u001b[34m[8]#011train-rmse:0.07103#011validation-rmse:0.07112\u001b[0m\n",
      "\u001b[34m[9]#011train-rmse:0.05854#011validation-rmse:0.05863\u001b[0m\n",
      "\u001b[34m[10]#011train-rmse:0.04890#011validation-rmse:0.04899\u001b[0m\n",
      "\u001b[34m[11]#011train-rmse:0.04158#011validation-rmse:0.04167\u001b[0m\n",
      "\u001b[34m[12]#011train-rmse:0.03612#011validation-rmse:0.03622\u001b[0m\n",
      "\u001b[34m[13]#011train-rmse:0.03214#011validation-rmse:0.03224\u001b[0m\n",
      "\u001b[34m[14]#011train-rmse:0.02932#011validation-rmse:0.02942\u001b[0m\n",
      "\u001b[34m[15]#011train-rmse:0.02736#011validation-rmse:0.02745\u001b[0m\n",
      "\u001b[34m[16]#011train-rmse:0.02602#011validation-rmse:0.02612\u001b[0m\n",
      "\u001b[34m[17]#011train-rmse:0.02513#011validation-rmse:0.02523\u001b[0m\n",
      "\u001b[34m[18]#011train-rmse:0.02455#011validation-rmse:0.02464\u001b[0m\n",
      "\u001b[34m[19]#011train-rmse:0.02416#011validation-rmse:0.02425\u001b[0m\n",
      "\u001b[34m[20]#011train-rmse:0.02391#011validation-rmse:0.02400\u001b[0m\n",
      "\u001b[34m[21]#011train-rmse:0.02375#011validation-rmse:0.02384\u001b[0m\n",
      "\u001b[34m[22]#011train-rmse:0.02365#011validation-rmse:0.02373\u001b[0m\n",
      "\u001b[34m[23]#011train-rmse:0.02358#011validation-rmse:0.02367\u001b[0m\n",
      "\u001b[34m[24]#011train-rmse:0.02354#011validation-rmse:0.02362\u001b[0m\n",
      "\u001b[34m[25]#011train-rmse:0.02352#011validation-rmse:0.02359\u001b[0m\n",
      "\u001b[34m[26]#011train-rmse:0.02350#011validation-rmse:0.02358\u001b[0m\n",
      "\u001b[34m[27]#011train-rmse:0.02349#011validation-rmse:0.02356\u001b[0m\n",
      "\u001b[34m[28]#011train-rmse:0.02348#011validation-rmse:0.02356\u001b[0m\n",
      "\u001b[34m[29]#011train-rmse:0.02347#011validation-rmse:0.02355\u001b[0m\n",
      "\u001b[34m[30]#011train-rmse:0.02347#011validation-rmse:0.02355\u001b[0m\n",
      "\u001b[34m[31]#011train-rmse:0.02347#011validation-rmse:0.02355\u001b[0m\n",
      "\u001b[34m[32]#011train-rmse:0.02347#011validation-rmse:0.02354\u001b[0m\n",
      "\u001b[34m[33]#011train-rmse:0.02347#011validation-rmse:0.02354\u001b[0m\n",
      "\u001b[34m[34]#011train-rmse:0.02347#011validation-rmse:0.02354\u001b[0m\n",
      "\u001b[34m[35]#011train-rmse:0.02347#011validation-rmse:0.02354\u001b[0m\n",
      "\u001b[34m[36]#011train-rmse:0.02347#011validation-rmse:0.02354\u001b[0m\n",
      "\u001b[34m[37]#011train-rmse:0.02347#011validation-rmse:0.02354\u001b[0m\n",
      "\u001b[34m[38]#011train-rmse:0.02347#011validation-rmse:0.02354\u001b[0m\n",
      "\u001b[34m[39]#011train-rmse:0.02347#011validation-rmse:0.02354\u001b[0m\n",
      "\u001b[34m[40]#011train-rmse:0.02347#011validation-rmse:0.02354\u001b[0m\n",
      "\u001b[34m[41]#011train-rmse:0.02347#011validation-rmse:0.02354\u001b[0m\n",
      "\u001b[34m[42]#011train-rmse:0.02347#011validation-rmse:0.02354\u001b[0m\n",
      "\u001b[34m[43]#011train-rmse:0.02347#011validation-rmse:0.02354\u001b[0m\n",
      "\u001b[34m[44]#011train-rmse:0.02347#011validation-rmse:0.02354\u001b[0m\n",
      "\u001b[34m[45]#011train-rmse:0.02347#011validation-rmse:0.02354\u001b[0m\n",
      "\u001b[34m[46]#011train-rmse:0.02347#011validation-rmse:0.02354\u001b[0m\n",
      "\u001b[34m[47]#011train-rmse:0.02347#011validation-rmse:0.02354\u001b[0m\n",
      "\u001b[34m[48]#011train-rmse:0.02347#011validation-rmse:0.02354\u001b[0m\n",
      "\u001b[34m[49]#011train-rmse:0.02347#011validation-rmse:0.02354\u001b[0m\n",
      "\n",
      "2024-08-24 09:41:48 Uploading - Uploading generated training model\n",
      "2024-08-24 09:41:48 Completed - Training job completed\n",
      "Training seconds: 275\n",
      "Billable seconds: 99\n",
      "Managed Spot Training savings: 64.0%\n"
     ]
    }
   ],
   "source": [
    "estimator.fit({'train':train_input,'validation':test_input})"
   ]
  },
  {
   "cell_type": "code",
   "execution_count": null,
   "id": "9c8d1521-7daf-4baf-a794-b78ec4eea379",
   "metadata": {},
   "outputs": [],
   "source": []
  }
 ],
 "metadata": {
  "kernelspec": {
   "display_name": "conda_python3",
   "language": "python",
   "name": "conda_python3"
  },
  "language_info": {
   "codemirror_mode": {
    "name": "ipython",
    "version": 3
   },
   "file_extension": ".py",
   "mimetype": "text/x-python",
   "name": "python",
   "nbconvert_exporter": "python",
   "pygments_lexer": "ipython3",
   "version": "3.10.14"
  }
 },
 "nbformat": 4,
 "nbformat_minor": 5
}
