{
 "cells": [
  {
   "cell_type": "markdown",
   "id": "9c3e8ce4-a860-4cf4-ac78-48103d1d58b2",
   "metadata": {},
   "source": [
    "# Dependencies"
   ]
  },
  {
   "cell_type": "markdown",
   "id": "d14f8b72-ff6e-414b-9847-f4bc735d8952",
   "metadata": {
    "jp-MarkdownHeadingCollapsed": true,
    "tags": []
   },
   "source": [
    "## Installs"
   ]
  },
  {
   "cell_type": "code",
   "execution_count": 14,
   "id": "a4973429-bb3c-4e83-965b-3b4bcf8c2198",
   "metadata": {
    "tags": []
   },
   "outputs": [
    {
     "name": "stdout",
     "output_type": "stream",
     "text": [
      "Collecting kaggle\n",
      "  Using cached kaggle-1.6.17-py3-none-any.whl\n",
      "Requirement already satisfied: six>=1.10 in /home/ec2-user/anaconda3/envs/python3/lib/python3.10/site-packages (from kaggle) (1.16.0)\n",
      "Requirement already satisfied: certifi>=2023.7.22 in /home/ec2-user/anaconda3/envs/python3/lib/python3.10/site-packages (from kaggle) (2024.7.4)\n",
      "Requirement already satisfied: python-dateutil in /home/ec2-user/anaconda3/envs/python3/lib/python3.10/site-packages (from kaggle) (2.9.0)\n",
      "Requirement already satisfied: requests in /home/ec2-user/anaconda3/envs/python3/lib/python3.10/site-packages (from kaggle) (2.32.3)\n",
      "Requirement already satisfied: tqdm in /home/ec2-user/anaconda3/envs/python3/lib/python3.10/site-packages (from kaggle) (4.66.4)\n",
      "Requirement already satisfied: python-slugify in /home/ec2-user/anaconda3/envs/python3/lib/python3.10/site-packages (from kaggle) (8.0.4)\n",
      "Requirement already satisfied: urllib3 in /home/ec2-user/anaconda3/envs/python3/lib/python3.10/site-packages (from kaggle) (2.2.2)\n",
      "Requirement already satisfied: bleach in /home/ec2-user/anaconda3/envs/python3/lib/python3.10/site-packages (from kaggle) (6.1.0)\n",
      "Requirement already satisfied: webencodings in /home/ec2-user/anaconda3/envs/python3/lib/python3.10/site-packages (from bleach->kaggle) (0.5.1)\n",
      "Requirement already satisfied: text-unidecode>=1.3 in /home/ec2-user/anaconda3/envs/python3/lib/python3.10/site-packages (from python-slugify->kaggle) (1.3)\n",
      "Requirement already satisfied: charset-normalizer<4,>=2 in /home/ec2-user/anaconda3/envs/python3/lib/python3.10/site-packages (from requests->kaggle) (3.3.2)\n",
      "Requirement already satisfied: idna<4,>=2.5 in /home/ec2-user/anaconda3/envs/python3/lib/python3.10/site-packages (from requests->kaggle) (3.7)\n",
      "Installing collected packages: kaggle\n",
      "Successfully installed kaggle-1.6.17\n"
     ]
    }
   ],
   "source": [
    "!pip install kaggle"
   ]
  },
  {
   "cell_type": "markdown",
   "id": "bbc937c4-dc63-468d-9836-d311d8a42edd",
   "metadata": {},
   "source": [
    "## Imports"
   ]
  },
  {
   "cell_type": "code",
   "execution_count": 2,
   "id": "83bb104b-c1e9-44e1-a8bb-f8e7bec361bf",
   "metadata": {
    "tags": []
   },
   "outputs": [],
   "source": [
    "import os\n",
    "import json\n",
    "from datetime import datetime\n",
    "import zipfile"
   ]
  },
  {
   "cell_type": "code",
   "execution_count": 3,
   "id": "08354824-c9a8-470b-9d14-6e7200f234fc",
   "metadata": {
    "tags": []
   },
   "outputs": [],
   "source": [
    "import pandas as pd\n",
    "import numpy as np"
   ]
  },
  {
   "cell_type": "code",
   "execution_count": 4,
   "id": "94e89a63-5f9b-4495-aa4b-51fdc5654d68",
   "metadata": {
    "tags": []
   },
   "outputs": [],
   "source": [
    "import boto3\n",
    "\n",
    "s3 = boto3.resource('s3')"
   ]
  },
  {
   "cell_type": "markdown",
   "id": "465f15ad-59b9-4d78-99a8-2470e457c964",
   "metadata": {},
   "source": [
    "## Utilities"
   ]
  },
  {
   "cell_type": "code",
   "execution_count": 21,
   "id": "7d0e3c53-870b-4748-91e3-e96e1d29304f",
   "metadata": {
    "tags": []
   },
   "outputs": [],
   "source": [
    "def create_lagged_features(df, lag_days, feature_columns):\n",
    "    for feature in feature_columns:\n",
    "        for lag in lag_days:\n",
    "            df[f'{feature}_lag_{lag}'] = df.groupby('SecuritiesCode')[feature].shift(lag)\n",
    "    return df"
   ]
  },
  {
   "cell_type": "code",
   "execution_count": 22,
   "id": "a427b164-19bf-4aa4-9a3b-9275d5f58f0c",
   "metadata": {
    "tags": []
   },
   "outputs": [],
   "source": [
    "def create_rolling_features(df, window_sizes, feature_columns):\n",
    "    for feature in feature_columns:\n",
    "        for window in window_sizes:\n",
    "            # Calculate rolling mean\n",
    "            df[f'{feature}_rolling_mean_{window}'] = (\n",
    "                df.groupby('SecuritiesCode')[feature]\n",
    "                .transform(lambda x: x.rolling(window).mean())\n",
    "            )\n",
    "            # Calculate rolling standard deviation\n",
    "            df[f'{feature}_rolling_std_{window}'] = (\n",
    "                df.groupby('SecuritiesCode')[feature]\n",
    "                .transform(lambda x: x.rolling(window).std())\n",
    "            )\n",
    "    return df"
   ]
  },
  {
   "cell_type": "markdown",
   "id": "d99cd90a-77a0-48c0-9ed6-89e66bd4431c",
   "metadata": {},
   "source": [
    "# Data"
   ]
  },
  {
   "cell_type": "markdown",
   "id": "e1d3b069-27f8-4d3c-a7d5-2fd9c9d9c8bd",
   "metadata": {
    "tags": []
   },
   "source": [
    "## Create an S3 Bucket to store the data"
   ]
  },
  {
   "cell_type": "code",
   "execution_count": 32,
   "id": "e8c7dc58-9f76-4fa4-b60d-05286fc7a07a",
   "metadata": {
    "tags": []
   },
   "outputs": [
    {
     "name": "stdout",
     "output_type": "stream",
     "text": [
      "S3 Bucket jpx-stock-prediction has been successfully created.\n"
     ]
    }
   ],
   "source": [
    "bucket_name = 'jpx-stock-prediction'\n",
    "try:\n",
    "    s3.create_bucket(Bucket=bucket_name)\n",
    "    print(f'S3 Bucket {bucket_name} has been successfully created.')\n",
    "except Exception as e:\n",
    "    print(f'S3 Error:{e}')"
   ]
  },
  {
   "cell_type": "markdown",
   "id": "ab2d0e80-a517-4f82-9787-4a1ba5678a9c",
   "metadata": {},
   "source": [
    "## Download the JPX Stock Exchange Dataset from Kaggle"
   ]
  },
  {
   "cell_type": "code",
   "execution_count": 16,
   "id": "e0d6be7b-4a36-463f-9d47-1ebd9b5ba3e7",
   "metadata": {
    "tags": []
   },
   "outputs": [],
   "source": [
    "os.makedirs(os.path.expanduser('./kaggle'), exist_ok=True)"
   ]
  },
  {
   "cell_type": "code",
   "execution_count": 17,
   "id": "21dd49ab-7da0-4188-864f-392e4c4ffd4e",
   "metadata": {
    "tags": []
   },
   "outputs": [],
   "source": [
    "# Move the kaggle.json file to the .kaggle directory\n",
    "with open('kaggle.json', 'r') as f:\n",
    "    kaggle_token = json.load(f)\n",
    "\n",
    "with open(os.path.expanduser('./kaggle/kaggle.json'), 'w') as f:\n",
    "    json.dump(kaggle_token, f)\n",
    "\n",
    "# Set the permissions\n",
    "os.chmod(os.path.expanduser('./kaggle/kaggle.json'), 0o600)"
   ]
  },
  {
   "cell_type": "code",
   "execution_count": 18,
   "id": "3659731a-f25b-478a-ae15-0521280d0d1a",
   "metadata": {
    "tags": []
   },
   "outputs": [
    {
     "name": "stdout",
     "output_type": "stream",
     "text": [
      "Warning: Your Kaggle API key is readable by other users on this system! To fix this, you can run 'chmod 600 /home/ec2-user/.config/kaggle/kaggle.json'\n",
      "Downloading jpx-tokyo-stock-exchange-prediction.zip to /home/ec2-user/SageMaker/jpx-stock-prediction\n",
      " 91%|█████████████████████████████████████▍   | 220M/241M [00:02<00:00, 160MB/s]\n",
      "100%|█████████████████████████████████████████| 241M/241M [00:02<00:00, 114MB/s]\n"
     ]
    }
   ],
   "source": [
    "!kaggle competitions download -c jpx-tokyo-stock-exchange-prediction"
   ]
  },
  {
   "cell_type": "code",
   "execution_count": 19,
   "id": "d160b7e9-8d00-4d61-9cdd-b63e4e612ed4",
   "metadata": {
    "tags": []
   },
   "outputs": [],
   "source": [
    "with zipfile.ZipFile('./jpx-tokyo-stock-exchange-prediction.zip', 'r') as zip_ref:\n",
    "    zip_ref.extractall('dataset-directory')"
   ]
  },
  {
   "cell_type": "code",
   "execution_count": 20,
   "id": "4a83f39d-b8d0-434d-bb3a-f94daad67cb8",
   "metadata": {
    "tags": []
   },
   "outputs": [
    {
     "name": "stdout",
     "output_type": "stream",
     "text": [
      "<class 'pandas.core.frame.DataFrame'>\n",
      "RangeIndex: 2332531 entries, 0 to 2332530\n",
      "Data columns (total 12 columns):\n",
      " #   Column            Dtype  \n",
      "---  ------            -----  \n",
      " 0   RowId             object \n",
      " 1   Date              object \n",
      " 2   SecuritiesCode    int64  \n",
      " 3   Open              float64\n",
      " 4   High              float64\n",
      " 5   Low               float64\n",
      " 6   Close             float64\n",
      " 7   Volume            int64  \n",
      " 8   AdjustmentFactor  float64\n",
      " 9   ExpectedDividend  float64\n",
      " 10  SupervisionFlag   bool   \n",
      " 11  Target            float64\n",
      "dtypes: bool(1), float64(7), int64(2), object(2)\n",
      "memory usage: 198.0+ MB\n"
     ]
    }
   ],
   "source": [
    "file_path = './dataset-directory/train_files/stock_prices.csv'\n",
    "df_data = pd.read_csv(file_path)\n",
    "df_data.info()"
   ]
  },
  {
   "cell_type": "markdown",
   "id": "1925a984-b413-459f-b93d-e1bed4fdd51a",
   "metadata": {},
   "source": [
    "## Extract, Load and Transform"
   ]
  },
  {
   "cell_type": "code",
   "execution_count": 23,
   "id": "19e6bcb7-628f-4508-a503-296606da032c",
   "metadata": {
    "tags": []
   },
   "outputs": [],
   "source": [
    "features = ['Open', 'High', 'Low', 'Close', 'Volume']\n",
    "lag_days = [1, 2, 3, 5, 10]\n",
    "window_sizes = [5, 10, 20]"
   ]
  },
  {
   "cell_type": "code",
   "execution_count": 24,
   "id": "d0ae89e5-353b-479d-818d-59d69cdf4e0d",
   "metadata": {
    "tags": []
   },
   "outputs": [],
   "source": [
    "df_data.drop(axis=1,columns=['RowId','AdjustmentFactor','ExpectedDividend','SupervisionFlag'],inplace=True)\n",
    "df_data['Date'] = pd.to_datetime(df_data['Date'])\n",
    "df_data = df_data.sort_values(by=['SecuritiesCode', 'Date'])"
   ]
  },
  {
   "cell_type": "code",
   "execution_count": 25,
   "id": "bde7d89f-5049-4e0e-a3e6-08885a8c366a",
   "metadata": {
    "tags": []
   },
   "outputs": [
    {
     "name": "stdout",
     "output_type": "stream",
     "text": [
      "<class 'pandas.core.frame.DataFrame'>\n",
      "Index: 2332531 entries, 0 to 2332530\n",
      "Data columns (total 33 columns):\n",
      " #   Column          Dtype         \n",
      "---  ------          -----         \n",
      " 0   Date            datetime64[ns]\n",
      " 1   SecuritiesCode  int64         \n",
      " 2   Open            float64       \n",
      " 3   High            float64       \n",
      " 4   Low             float64       \n",
      " 5   Close           float64       \n",
      " 6   Volume          int64         \n",
      " 7   Target          float64       \n",
      " 8   Open_lag_1      float64       \n",
      " 9   Open_lag_2      float64       \n",
      " 10  Open_lag_3      float64       \n",
      " 11  Open_lag_5      float64       \n",
      " 12  Open_lag_10     float64       \n",
      " 13  High_lag_1      float64       \n",
      " 14  High_lag_2      float64       \n",
      " 15  High_lag_3      float64       \n",
      " 16  High_lag_5      float64       \n",
      " 17  High_lag_10     float64       \n",
      " 18  Low_lag_1       float64       \n",
      " 19  Low_lag_2       float64       \n",
      " 20  Low_lag_3       float64       \n",
      " 21  Low_lag_5       float64       \n",
      " 22  Low_lag_10      float64       \n",
      " 23  Close_lag_1     float64       \n",
      " 24  Close_lag_2     float64       \n",
      " 25  Close_lag_3     float64       \n",
      " 26  Close_lag_5     float64       \n",
      " 27  Close_lag_10    float64       \n",
      " 28  Volume_lag_1    float64       \n",
      " 29  Volume_lag_2    float64       \n",
      " 30  Volume_lag_3    float64       \n",
      " 31  Volume_lag_5    float64       \n",
      " 32  Volume_lag_10   float64       \n",
      "dtypes: datetime64[ns](1), float64(30), int64(2)\n",
      "memory usage: 605.1 MB\n"
     ]
    }
   ],
   "source": [
    "df_data = create_lagged_features(df_data, lag_days, features)\n",
    "df_data.info()"
   ]
  },
  {
   "cell_type": "code",
   "execution_count": 26,
   "id": "1aa7d542-4748-4d6d-8469-9f5ec833610c",
   "metadata": {
    "tags": []
   },
   "outputs": [
    {
     "name": "stdout",
     "output_type": "stream",
     "text": [
      "<class 'pandas.core.frame.DataFrame'>\n",
      "Index: 2332531 entries, 0 to 2332530\n",
      "Data columns (total 63 columns):\n",
      " #   Column                  Dtype         \n",
      "---  ------                  -----         \n",
      " 0   Date                    datetime64[ns]\n",
      " 1   SecuritiesCode          int64         \n",
      " 2   Open                    float64       \n",
      " 3   High                    float64       \n",
      " 4   Low                     float64       \n",
      " 5   Close                   float64       \n",
      " 6   Volume                  int64         \n",
      " 7   Target                  float64       \n",
      " 8   Open_lag_1              float64       \n",
      " 9   Open_lag_2              float64       \n",
      " 10  Open_lag_3              float64       \n",
      " 11  Open_lag_5              float64       \n",
      " 12  Open_lag_10             float64       \n",
      " 13  High_lag_1              float64       \n",
      " 14  High_lag_2              float64       \n",
      " 15  High_lag_3              float64       \n",
      " 16  High_lag_5              float64       \n",
      " 17  High_lag_10             float64       \n",
      " 18  Low_lag_1               float64       \n",
      " 19  Low_lag_2               float64       \n",
      " 20  Low_lag_3               float64       \n",
      " 21  Low_lag_5               float64       \n",
      " 22  Low_lag_10              float64       \n",
      " 23  Close_lag_1             float64       \n",
      " 24  Close_lag_2             float64       \n",
      " 25  Close_lag_3             float64       \n",
      " 26  Close_lag_5             float64       \n",
      " 27  Close_lag_10            float64       \n",
      " 28  Volume_lag_1            float64       \n",
      " 29  Volume_lag_2            float64       \n",
      " 30  Volume_lag_3            float64       \n",
      " 31  Volume_lag_5            float64       \n",
      " 32  Volume_lag_10           float64       \n",
      " 33  Open_rolling_mean_5     float64       \n",
      " 34  Open_rolling_std_5      float64       \n",
      " 35  Open_rolling_mean_10    float64       \n",
      " 36  Open_rolling_std_10     float64       \n",
      " 37  Open_rolling_mean_20    float64       \n",
      " 38  Open_rolling_std_20     float64       \n",
      " 39  High_rolling_mean_5     float64       \n",
      " 40  High_rolling_std_5      float64       \n",
      " 41  High_rolling_mean_10    float64       \n",
      " 42  High_rolling_std_10     float64       \n",
      " 43  High_rolling_mean_20    float64       \n",
      " 44  High_rolling_std_20     float64       \n",
      " 45  Low_rolling_mean_5      float64       \n",
      " 46  Low_rolling_std_5       float64       \n",
      " 47  Low_rolling_mean_10     float64       \n",
      " 48  Low_rolling_std_10      float64       \n",
      " 49  Low_rolling_mean_20     float64       \n",
      " 50  Low_rolling_std_20      float64       \n",
      " 51  Close_rolling_mean_5    float64       \n",
      " 52  Close_rolling_std_5     float64       \n",
      " 53  Close_rolling_mean_10   float64       \n",
      " 54  Close_rolling_std_10    float64       \n",
      " 55  Close_rolling_mean_20   float64       \n",
      " 56  Close_rolling_std_20    float64       \n",
      " 57  Volume_rolling_mean_5   float64       \n",
      " 58  Volume_rolling_std_5    float64       \n",
      " 59  Volume_rolling_mean_10  float64       \n",
      " 60  Volume_rolling_std_10   float64       \n",
      " 61  Volume_rolling_mean_20  float64       \n",
      " 62  Volume_rolling_std_20   float64       \n",
      "dtypes: datetime64[ns](1), float64(60), int64(2)\n",
      "memory usage: 1.1 GB\n"
     ]
    }
   ],
   "source": [
    "df_data_copy = df_data.copy()\n",
    "df_data_copy = create_rolling_features(df_data_copy, window_sizes, features)\n",
    "df_data_copy.info()"
   ]
  },
  {
   "cell_type": "code",
   "execution_count": 27,
   "id": "1bc5f374-6be2-487a-a568-37787c193f5f",
   "metadata": {
    "tags": []
   },
   "outputs": [
    {
     "name": "stdout",
     "output_type": "stream",
     "text": [
      "<class 'pandas.core.frame.DataFrame'>\n",
      "Index: 2332531 entries, 0 to 2332530\n",
      "Data columns (total 68 columns):\n",
      " #   Column                  Dtype         \n",
      "---  ------                  -----         \n",
      " 0   Date                    datetime64[ns]\n",
      " 1   SecuritiesCode          int64         \n",
      " 2   Open                    float64       \n",
      " 3   High                    float64       \n",
      " 4   Low                     float64       \n",
      " 5   Close                   float64       \n",
      " 6   Volume                  int64         \n",
      " 7   Target                  float64       \n",
      " 8   Open_lag_1              float64       \n",
      " 9   Open_lag_2              float64       \n",
      " 10  Open_lag_3              float64       \n",
      " 11  Open_lag_5              float64       \n",
      " 12  Open_lag_10             float64       \n",
      " 13  High_lag_1              float64       \n",
      " 14  High_lag_2              float64       \n",
      " 15  High_lag_3              float64       \n",
      " 16  High_lag_5              float64       \n",
      " 17  High_lag_10             float64       \n",
      " 18  Low_lag_1               float64       \n",
      " 19  Low_lag_2               float64       \n",
      " 20  Low_lag_3               float64       \n",
      " 21  Low_lag_5               float64       \n",
      " 22  Low_lag_10              float64       \n",
      " 23  Close_lag_1             float64       \n",
      " 24  Close_lag_2             float64       \n",
      " 25  Close_lag_3             float64       \n",
      " 26  Close_lag_5             float64       \n",
      " 27  Close_lag_10            float64       \n",
      " 28  Volume_lag_1            float64       \n",
      " 29  Volume_lag_2            float64       \n",
      " 30  Volume_lag_3            float64       \n",
      " 31  Volume_lag_5            float64       \n",
      " 32  Volume_lag_10           float64       \n",
      " 33  Open_rolling_mean_5     float64       \n",
      " 34  Open_rolling_std_5      float64       \n",
      " 35  Open_rolling_mean_10    float64       \n",
      " 36  Open_rolling_std_10     float64       \n",
      " 37  Open_rolling_mean_20    float64       \n",
      " 38  Open_rolling_std_20     float64       \n",
      " 39  High_rolling_mean_5     float64       \n",
      " 40  High_rolling_std_5      float64       \n",
      " 41  High_rolling_mean_10    float64       \n",
      " 42  High_rolling_std_10     float64       \n",
      " 43  High_rolling_mean_20    float64       \n",
      " 44  High_rolling_std_20     float64       \n",
      " 45  Low_rolling_mean_5      float64       \n",
      " 46  Low_rolling_std_5       float64       \n",
      " 47  Low_rolling_mean_10     float64       \n",
      " 48  Low_rolling_std_10      float64       \n",
      " 49  Low_rolling_mean_20     float64       \n",
      " 50  Low_rolling_std_20      float64       \n",
      " 51  Close_rolling_mean_5    float64       \n",
      " 52  Close_rolling_std_5     float64       \n",
      " 53  Close_rolling_mean_10   float64       \n",
      " 54  Close_rolling_std_10    float64       \n",
      " 55  Close_rolling_mean_20   float64       \n",
      " 56  Close_rolling_std_20    float64       \n",
      " 57  Volume_rolling_mean_5   float64       \n",
      " 58  Volume_rolling_std_5    float64       \n",
      " 59  Volume_rolling_mean_10  float64       \n",
      " 60  Volume_rolling_std_10   float64       \n",
      " 61  Volume_rolling_mean_20  float64       \n",
      " 62  Volume_rolling_std_20   float64       \n",
      " 63  HL_ratio                float64       \n",
      " 64  CO_ratio                float64       \n",
      " 65  Day_of_Week             int32         \n",
      " 66  Week_of_Year            UInt32        \n",
      " 67  Month                   int32         \n",
      "dtypes: UInt32(1), datetime64[ns](1), float64(62), int32(2), int64(2)\n",
      "memory usage: 1.2 GB\n"
     ]
    }
   ],
   "source": [
    "df_data_copy['HL_ratio'] = df_data_copy['High'] / df_data_copy['Low']\n",
    "df_data_copy['CO_ratio'] = df_data_copy['Close'] / df_data_copy['Open']\n",
    "df_data_copy['Day_of_Week'] = df_data_copy['Date'].dt.dayofweek\n",
    "df_data_copy['Week_of_Year'] = df_data_copy['Date'].dt.isocalendar().week\n",
    "df_data_copy['Month'] = df_data_copy['Date'].dt.month\n",
    "df_data_copy.info()"
   ]
  },
  {
   "cell_type": "code",
   "execution_count": 28,
   "id": "05ca7555-8ceb-4ab7-b825-4723028febc8",
   "metadata": {
    "tags": []
   },
   "outputs": [],
   "source": [
    "df_data_features = df_data_copy.drop(columns=['Date', 'SecuritiesCode'])\n",
    "df_data_features = df_data_features.dropna()"
   ]
  },
  {
   "cell_type": "code",
   "execution_count": 30,
   "id": "29f0c779-3ff7-494f-807b-6a1e12bbea57",
   "metadata": {
    "tags": []
   },
   "outputs": [
    {
     "name": "stdout",
     "output_type": "stream",
     "text": [
      "<class 'pandas.core.frame.DataFrame'>\n",
      "Index: 2222559 entries, 35435 to 2332530\n",
      "Data columns (total 66 columns):\n",
      " #   Column                  Dtype  \n",
      "---  ------                  -----  \n",
      " 0   Target                  float64\n",
      " 1   Open                    float64\n",
      " 2   High                    float64\n",
      " 3   Low                     float64\n",
      " 4   Close                   float64\n",
      " 5   Volume                  int64  \n",
      " 6   Open_lag_1              float64\n",
      " 7   Open_lag_2              float64\n",
      " 8   Open_lag_3              float64\n",
      " 9   Open_lag_5              float64\n",
      " 10  Open_lag_10             float64\n",
      " 11  High_lag_1              float64\n",
      " 12  High_lag_2              float64\n",
      " 13  High_lag_3              float64\n",
      " 14  High_lag_5              float64\n",
      " 15  High_lag_10             float64\n",
      " 16  Low_lag_1               float64\n",
      " 17  Low_lag_2               float64\n",
      " 18  Low_lag_3               float64\n",
      " 19  Low_lag_5               float64\n",
      " 20  Low_lag_10              float64\n",
      " 21  Close_lag_1             float64\n",
      " 22  Close_lag_2             float64\n",
      " 23  Close_lag_3             float64\n",
      " 24  Close_lag_5             float64\n",
      " 25  Close_lag_10            float64\n",
      " 26  Volume_lag_1            float64\n",
      " 27  Volume_lag_2            float64\n",
      " 28  Volume_lag_3            float64\n",
      " 29  Volume_lag_5            float64\n",
      " 30  Volume_lag_10           float64\n",
      " 31  Open_rolling_mean_5     float64\n",
      " 32  Open_rolling_std_5      float64\n",
      " 33  Open_rolling_mean_10    float64\n",
      " 34  Open_rolling_std_10     float64\n",
      " 35  Open_rolling_mean_20    float64\n",
      " 36  Open_rolling_std_20     float64\n",
      " 37  High_rolling_mean_5     float64\n",
      " 38  High_rolling_std_5      float64\n",
      " 39  High_rolling_mean_10    float64\n",
      " 40  High_rolling_std_10     float64\n",
      " 41  High_rolling_mean_20    float64\n",
      " 42  High_rolling_std_20     float64\n",
      " 43  Low_rolling_mean_5      float64\n",
      " 44  Low_rolling_std_5       float64\n",
      " 45  Low_rolling_mean_10     float64\n",
      " 46  Low_rolling_std_10      float64\n",
      " 47  Low_rolling_mean_20     float64\n",
      " 48  Low_rolling_std_20      float64\n",
      " 49  Close_rolling_mean_5    float64\n",
      " 50  Close_rolling_std_5     float64\n",
      " 51  Close_rolling_mean_10   float64\n",
      " 52  Close_rolling_std_10    float64\n",
      " 53  Close_rolling_mean_20   float64\n",
      " 54  Close_rolling_std_20    float64\n",
      " 55  Volume_rolling_mean_5   float64\n",
      " 56  Volume_rolling_std_5    float64\n",
      " 57  Volume_rolling_mean_10  float64\n",
      " 58  Volume_rolling_std_10   float64\n",
      " 59  Volume_rolling_mean_20  float64\n",
      " 60  Volume_rolling_std_20   float64\n",
      " 61  HL_ratio                float64\n",
      " 62  CO_ratio                float64\n",
      " 63  Day_of_Week             int32  \n",
      " 64  Week_of_Year            UInt32 \n",
      " 65  Month                   int32  \n",
      "dtypes: UInt32(1), float64(62), int32(2), int64(1)\n",
      "memory usage: 1.1 GB\n"
     ]
    }
   ],
   "source": [
    "df_data_features = df_data_features[['Target'] + [col for col in df_data_features.columns if col != 'Target']]\n",
    "df_data_features.info()"
   ]
  },
  {
   "cell_type": "code",
   "execution_count": 31,
   "id": "f3897a12-a100-4074-bef6-3c02a0cd8ea2",
   "metadata": {
    "tags": []
   },
   "outputs": [
    {
     "name": "stderr",
     "output_type": "stream",
     "text": [
      "/home/ec2-user/anaconda3/envs/python3/lib/python3.10/site-packages/numpy/core/fromnumeric.py:57: FutureWarning: 'DataFrame.swapaxes' is deprecated and will be removed in a future version. Please use 'DataFrame.transpose' instead.\n",
      "  return bound(*args, **kwds)\n"
     ]
    },
    {
     "name": "stdout",
     "output_type": "stream",
     "text": [
      "Train:(1778047, 66) \n",
      "Test:(444512, 66)\n"
     ]
    }
   ],
   "source": [
    "df_randomized = df_data_features.sample(frac=1, random_state=123)\n",
    "train_data, test_data = np.split(df_randomized, [int(0.8*len(df_randomized))])\n",
    "print(f\"Train:{train_data.shape} \\nTest:{test_data.shape}\")"
   ]
  },
  {
   "cell_type": "markdown",
   "id": "46cfe736-1c61-42d3-9281-8646c284279d",
   "metadata": {},
   "source": [
    "## Upload to S3"
   ]
  },
  {
   "cell_type": "code",
   "execution_count": 33,
   "id": "3ff6228b-973b-4672-be79-e2d881b3d0af",
   "metadata": {
    "tags": []
   },
   "outputs": [],
   "source": [
    "prefix = 'xgboost-builtin'"
   ]
  },
  {
   "cell_type": "code",
   "execution_count": 35,
   "id": "f7e139a5-a879-4352-b443-22b4d155835b",
   "metadata": {
    "tags": []
   },
   "outputs": [
    {
     "name": "stdout",
     "output_type": "stream",
     "text": [
      "Train Path: s3://jpx-stock-prediction/xgboost-builtin/train/train.csv\n",
      "Test Path: s3://jpx-stock-prediction/xgboost-builtin/test/test.csv\n"
     ]
    }
   ],
   "source": [
    "train_csv_path = 's3://{}/{}/{}/{}'.format(bucket_name,prefix,'train','train.csv')\n",
    "test_csv_path = 's3://{}/{}/{}/{}'.format(bucket_name,prefix,'test','test.csv')\n",
    "\n",
    "print(f'Train Path: {train_csv_path}')\n",
    "print(f'Test Path: {test_csv_path}')"
   ]
  },
  {
   "cell_type": "code",
   "execution_count": 37,
   "id": "f9d5257c-4ec1-49ac-8905-3f1dfe8f7ef5",
   "metadata": {
    "tags": []
   },
   "outputs": [],
   "source": [
    "train_data.to_csv(train_csv_path, index=False, header=False)\n",
    "test_data.to_csv(test_csv_path, index=False, header=False)"
   ]
  }
 ],
 "metadata": {
  "kernelspec": {
   "display_name": "conda_python3",
   "language": "python",
   "name": "conda_python3"
  },
  "language_info": {
   "codemirror_mode": {
    "name": "ipython",
    "version": 3
   },
   "file_extension": ".py",
   "mimetype": "text/x-python",
   "name": "python",
   "nbconvert_exporter": "python",
   "pygments_lexer": "ipython3",
   "version": "3.10.14"
  }
 },
 "nbformat": 4,
 "nbformat_minor": 5
}
